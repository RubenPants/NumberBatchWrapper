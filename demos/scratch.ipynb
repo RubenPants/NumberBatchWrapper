{
 "cells": [
  {
   "cell_type": "code",
   "execution_count": 1,
   "id": "distant-content",
   "metadata": {},
   "outputs": [],
   "source": [
    "%load_ext autoreload\n",
    "%autoreload 2"
   ]
  },
  {
   "cell_type": "code",
   "execution_count": 2,
   "id": "liable-judge",
   "metadata": {},
   "outputs": [
    {
     "name": "stdout",
     "output_type": "stream",
     "text": [
      "time: 358 µs (started: 2021-03-08 23:36:44 +01:00)\n"
     ]
    }
   ],
   "source": [
    "%load_ext autotime"
   ]
  },
  {
   "cell_type": "code",
   "execution_count": 3,
   "id": "indonesian-reach",
   "metadata": {},
   "outputs": [
    {
     "name": "stdout",
     "output_type": "stream",
     "text": [
      "/Users/rubenbroekx/Documents/Projects/NumberBatchWrapper\n",
      "time: 4.41 ms (started: 2021-03-08 23:36:44 +01:00)\n"
     ]
    }
   ],
   "source": [
    "%cd .."
   ]
  },
  {
   "cell_type": "code",
   "execution_count": 4,
   "id": "center-repository",
   "metadata": {},
   "outputs": [
    {
     "name": "stdout",
     "output_type": "stream",
     "text": [
      "time: 472 µs (started: 2021-03-08 23:36:45 +01:00)\n"
     ]
    }
   ],
   "source": [
    "import re\n",
    "from pathlib import Path"
   ]
  },
  {
   "cell_type": "code",
   "execution_count": 5,
   "id": "focused-spanking",
   "metadata": {},
   "outputs": [
    {
     "data": {
      "text/plain": [
       "6"
      ]
     },
     "execution_count": 5,
     "metadata": {},
     "output_type": "execute_result"
    },
    {
     "name": "stdout",
     "output_type": "stream",
     "text": [
      "time: 7.39 ms (started: 2021-03-08 23:36:46 +01:00)\n"
     ]
    }
   ],
   "source": [
    "len('/c/en/')"
   ]
  },
  {
   "cell_type": "code",
   "execution_count": 6,
   "id": "innovative-football",
   "metadata": {},
   "outputs": [
    {
     "ename": "Exception",
     "evalue": "",
     "output_type": "error",
     "traceback": [
      "\u001b[0;31m---------------------------------------------------------------------------\u001b[0m",
      "\u001b[0;31mException\u001b[0m                                 Traceback (most recent call last)",
      "\u001b[0;32m<ipython-input-6-7329e76b5e09>\u001b[0m in \u001b[0;36m<module>\u001b[0;34m\u001b[0m\n\u001b[1;32m      2\u001b[0m     \u001b[0mline\u001b[0m \u001b[0;34m=\u001b[0m \u001b[0mf\u001b[0m\u001b[0;34m.\u001b[0m\u001b[0mreadline\u001b[0m\u001b[0;34m(\u001b[0m\u001b[0;34m)\u001b[0m\u001b[0;34m\u001b[0m\u001b[0;34m\u001b[0m\u001b[0m\n\u001b[1;32m      3\u001b[0m     \u001b[0mline\u001b[0m \u001b[0;34m=\u001b[0m \u001b[0mf\u001b[0m\u001b[0;34m.\u001b[0m\u001b[0mreadline\u001b[0m\u001b[0;34m(\u001b[0m\u001b[0;34m)\u001b[0m\u001b[0;34m\u001b[0m\u001b[0;34m\u001b[0m\u001b[0m\n\u001b[0;32m----> 4\u001b[0;31m     \u001b[0;32mraise\u001b[0m \u001b[0mException\u001b[0m\u001b[0;34m\u001b[0m\u001b[0;34m\u001b[0m\u001b[0m\n\u001b[0m",
      "\u001b[0;31mException\u001b[0m: "
     ]
    },
    {
     "name": "stdout",
     "output_type": "stream",
     "text": [
      "time: 126 ms (started: 2021-03-08 23:36:48 +01:00)\n"
     ]
    }
   ],
   "source": [
    "with open(Path.home() / 'Downloads/numberbatch-19.08.txt', 'r') as f:\n",
    "    line = f.readline()\n",
    "    line = f.readline()\n",
    "    raise Exception"
   ]
  },
  {
   "cell_type": "code",
   "execution_count": 7,
   "id": "vanilla-definition",
   "metadata": {},
   "outputs": [
    {
     "data": {
      "text/plain": [
       "'##'"
      ]
     },
     "execution_count": 7,
     "metadata": {},
     "output_type": "execute_result"
    },
    {
     "name": "stdout",
     "output_type": "stream",
     "text": [
      "time: 1.83 ms (started: 2021-03-08 23:36:49 +01:00)\n"
     ]
    }
   ],
   "source": [
    "name = line.split()[0][6:]\n",
    "name"
   ]
  },
  {
   "cell_type": "code",
   "execution_count": 8,
   "id": "owned-account",
   "metadata": {},
   "outputs": [
    {
     "name": "stdout",
     "output_type": "stream",
     "text": [
      "time: 526 µs (started: 2021-03-08 23:36:49 +01:00)\n"
     ]
    }
   ],
   "source": [
    "re.match(r'[^a-zA-Z]', 'aa')"
   ]
  },
  {
   "cell_type": "code",
   "execution_count": 19,
   "id": "ignored-delight",
   "metadata": {},
   "outputs": [
    {
     "name": "stdout",
     "output_type": "stream",
     "text": [
      "time: 452 µs (started: 2021-03-08 23:41:27 +01:00)\n"
     ]
    }
   ],
   "source": [
    "d = {1:[1,2], 3:[3,4]}"
   ]
  },
  {
   "cell_type": "code",
   "execution_count": 20,
   "id": "revolutionary-responsibility",
   "metadata": {},
   "outputs": [
    {
     "name": "stdout",
     "output_type": "stream",
     "text": [
      "time: 510 µs (started: 2021-03-08 23:41:29 +01:00)\n"
     ]
    }
   ],
   "source": [
    "def process(word, vector) -> str:\n",
    "    \"\"\"Turn word and vector couple to string.\"\"\"\n",
    "    return f\"{word} {' '.join([str(v) for v in vector])}\""
   ]
  },
  {
   "cell_type": "code",
   "execution_count": 21,
   "id": "arbitrary-cemetery",
   "metadata": {},
   "outputs": [
    {
     "data": {
      "text/plain": [
       "['1 1 2', '3 3 4']"
      ]
     },
     "execution_count": 21,
     "metadata": {},
     "output_type": "execute_result"
    },
    {
     "name": "stdout",
     "output_type": "stream",
     "text": [
      "time: 1.63 ms (started: 2021-03-08 23:41:36 +01:00)\n"
     ]
    }
   ],
   "source": [
    "[process(*x) for x in d.items()]"
   ]
  },
  {
   "cell_type": "code",
   "execution_count": null,
   "id": "boring-marina",
   "metadata": {},
   "outputs": [],
   "source": []
  }
 ],
 "metadata": {
  "hide_input": false,
  "kernelspec": {
   "display_name": "Python 3",
   "language": "python",
   "name": "python3"
  },
  "language_info": {
   "codemirror_mode": {
    "name": "ipython",
    "version": 3
   },
   "file_extension": ".py",
   "mimetype": "text/x-python",
   "name": "python",
   "nbconvert_exporter": "python",
   "pygments_lexer": "ipython3",
   "version": "3.8.2"
  }
 },
 "nbformat": 4,
 "nbformat_minor": 5
}
