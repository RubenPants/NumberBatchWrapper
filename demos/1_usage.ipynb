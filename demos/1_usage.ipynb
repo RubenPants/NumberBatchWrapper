{
 "cells": [
  {
   "cell_type": "code",
   "execution_count": 1,
   "id": "animated-effectiveness",
   "metadata": {},
   "outputs": [],
   "source": [
    "%load_ext autoreload\n",
    "%autoreload 2"
   ]
  },
  {
   "cell_type": "code",
   "execution_count": 2,
   "id": "large-wilderness",
   "metadata": {},
   "outputs": [
    {
     "name": "stdout",
     "output_type": "stream",
     "text": [
      "time: 341 µs (started: 2021-03-08 21:03:26 +01:00)\n"
     ]
    }
   ],
   "source": [
    "%load_ext autotime"
   ]
  },
  {
   "cell_type": "code",
   "execution_count": 3,
   "id": "closing-rental",
   "metadata": {},
   "outputs": [
    {
     "name": "stdout",
     "output_type": "stream",
     "text": [
      "/Users/rubenbroekx/Documents/Projects/NumberBatchWrapper\n",
      "time: 1.19 ms (started: 2021-03-08 21:03:26 +01:00)\n"
     ]
    }
   ],
   "source": [
    "%cd .."
   ]
  },
  {
   "cell_type": "markdown",
   "id": "other-cornwall",
   "metadata": {},
   "source": [
    "# Usage\n",
    "\n",
    "**TODO: Documentation**"
   ]
  },
  {
   "cell_type": "code",
   "execution_count": 4,
   "id": "wrong-transportation",
   "metadata": {},
   "outputs": [
    {
     "name": "stdout",
     "output_type": "stream",
     "text": [
      "time: 144 ms (started: 2021-03-08 21:03:26 +01:00)\n"
     ]
    }
   ],
   "source": [
    "from pathlib import Path\n",
    "from number_batch_wrapper import Wrapper"
   ]
  },
  {
   "cell_type": "code",
   "execution_count": 5,
   "id": "developed-component",
   "metadata": {},
   "outputs": [
    {
     "name": "stdout",
     "output_type": "stream",
     "text": [
      "time: 574 µs (started: 2021-03-08 21:03:26 +01:00)\n"
     ]
    }
   ],
   "source": [
    "wrapper = Wrapper(\n",
    "    language='en',\n",
    "    path=Path.cwd()\n",
    ")"
   ]
  },
  {
   "cell_type": "code",
   "execution_count": 6,
   "id": "freelance-cincinnati",
   "metadata": {},
   "outputs": [
    {
     "name": "stderr",
     "output_type": "stream",
     "text": [
      "Extracting en..: 9161913it [01:12, 126439.87it/s]                             \n"
     ]
    },
    {
     "name": "stdout",
     "output_type": "stream",
     "text": [
      "359592\n",
      "time: 1min 14s (started: 2021-03-08 21:03:26 +01:00)\n"
     ]
    }
   ],
   "source": [
    "wrapper.initialise(\n",
    "    inp_path=Path.home() / 'Downloads'\n",
    ")"
   ]
  },
  {
   "cell_type": "code",
   "execution_count": null,
   "id": "unknown-korean",
   "metadata": {},
   "outputs": [],
   "source": []
  }
 ],
 "metadata": {
  "hide_input": false,
  "kernelspec": {
   "display_name": "Python 3",
   "language": "python",
   "name": "python3"
  },
  "language_info": {
   "codemirror_mode": {
    "name": "ipython",
    "version": 3
   },
   "file_extension": ".py",
   "mimetype": "text/x-python",
   "name": "python",
   "nbconvert_exporter": "python",
   "pygments_lexer": "ipython3",
   "version": "3.8.2"
  }
 },
 "nbformat": 4,
 "nbformat_minor": 5
}
