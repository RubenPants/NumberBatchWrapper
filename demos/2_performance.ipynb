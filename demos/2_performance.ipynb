{
 "cells": [
  {
   "cell_type": "code",
   "execution_count": 1,
   "id": "animated-effectiveness",
   "metadata": {},
   "outputs": [
    {
     "name": "stdout",
     "output_type": "stream",
     "text": [
      "/Users/rubenbroekx/Documents/Projects/NumberBatchWrapper\n",
      "time: 2.2 ms (started: 2021-03-14 14:08:34 +01:00)\n"
     ]
    }
   ],
   "source": [
    "%load_ext autoreload\n",
    "%autoreload 2\n",
    "\n",
    "%load_ext autotime\n",
    "\n",
    "%cd .."
   ]
  },
  {
   "cell_type": "markdown",
   "id": "other-cornwall",
   "metadata": {},
   "source": [
    "# Performance\n",
    "\n",
    "This notebook evaluates the performance of the model for different `level` configureations. The general rule of thumb is that a higher `level` will result in a faster performance, at the cost of more files and a slower initialisation. Note that, however, the latter should only be performed once on every machine, hence the annoyance it poses is not significant."
   ]
  },
  {
   "cell_type": "code",
   "execution_count": 2,
   "id": "integrated-marketplace",
   "metadata": {},
   "outputs": [
    {
     "name": "stdout",
     "output_type": "stream",
     "text": [
      "time: 172 ms (started: 2021-03-14 14:08:34 +01:00)\n"
     ]
    }
   ],
   "source": [
    "from number_batch_wrapper import Wrapper\n",
    "from time import time\n",
    "\n",
    "TIME = {}\n",
    "def start(tag):\n",
    "    assert tag not in TIME\n",
    "    TIME[tag] = time()\n",
    "    \n",
    "def stop(tag, print_result:bool=True):\n",
    "    assert tag in TIME\n",
    "    TIME[tag] = time() - TIME[tag]\n",
    "    if print_result: print_time(tag)\n",
    "    \n",
    "def str_time(time) -> str:\n",
    "    result = \"\"\n",
    "    if time // 3600: \n",
    "        result += f\"{round(time)//3600}h \"\n",
    "        time %= 3600\n",
    "    if time // 60: \n",
    "        result += f\"{round(time)//60}m \"\n",
    "        time %= 60\n",
    "    if time // 1:\n",
    "        result += f\"{round(time)//1}s \"\n",
    "        time %= 1\n",
    "    result += f\"{round(time,5):.5f}\"\n",
    "    return result\n",
    "\n",
    "def print_time(tag):\n",
    "    assert tag in TIME\n",
    "    print(f\"{tag}: {str_time(TIME[tag])}\")\n",
    "        \n",
    "def print_time_overview():\n",
    "    print(f\"Time overview:\")\n",
    "    for k,v in sorted(TIME.items()):\n",
    "        print(f\" - {k}: {str_time(v)}\")\n",
    "        \n",
    "# Load the demo-data, use to evaluate performance on\n",
    "import json\n",
    "from glob import glob\n",
    "from pathlib import Path\n",
    "\n",
    "with open(Path.cwd() / 'demos/data.json', 'r') as f:\n",
    "    data = json.load(f)\n",
    "    \n",
    "# Custom cleaning and tokenization, see notebook 1_usage.ipynb\n",
    "import re\n",
    "from typing import List\n",
    "from fold_to_ascii import fold\n",
    "from stop_words import get_stop_words\n",
    "\n",
    "def clean(x:str) -> str:\n",
    "    \"\"\"Custom cleaning function.\"\"\"\n",
    "    x = fold(x.lower())\n",
    "    x = re.sub(r'[^a-z]', '', x)\n",
    "    return x\n",
    "\n",
    "STOP_EN = set(get_stop_words('en'))\n",
    "\n",
    "def tokenize(sentence:str) -> List[str]:\n",
    "    \"\"\"Custom tokenizer.\"\"\"\n",
    "    sentence = re.split(r'\\W', sentence)\n",
    "    sentence = [clean(w) for w in sentence]\n",
    "    sentence = [w for w in sentence if len(w) > 1 and w not in STOP_EN]\n",
    "    return sentence"
   ]
  },
  {
   "cell_type": "markdown",
   "id": "wrapped-preliminary",
   "metadata": {},
   "source": [
    "## Time\n",
    "\n",
    "Time both the creation (`initialise`) as the inference (`__call__`) of the model. Merge these results with the memory-usage consumed and number of files that has been created. Compare against the in-memory usage of the NumberBatch embeddings, which pose a maximum in inference speeds."
   ]
  },
  {
   "cell_type": "markdown",
   "id": "figured-bowling",
   "metadata": {},
   "source": [
    "### In Memory\n",
    "\n",
    "Evaluate the performance when using the embeddings in memory. Note that for this case, the `initialisation` of `level=1` is used. This part of the notebook investigates the time it takes to embed all the data when the embeddings are pre-loaded into memory. This to form a target (maximum) inference-speed.\n",
    "\n",
    "To load in the cleaned data into memory, 1.200 MB of memory is consumed by the notebook."
   ]
  },
  {
   "cell_type": "code",
   "execution_count": 3,
   "id": "tropical-solomon",
   "metadata": {},
   "outputs": [
    {
     "name": "stdout",
     "output_type": "stream",
     "text": [
      "time: 505 µs (started: 2021-03-14 14:08:36 +01:00)\n"
     ]
    }
   ],
   "source": [
    "import numpy as np\n",
    "from tqdm import tqdm\n",
    "from time import sleep\n",
    "from typing import Optional"
   ]
  },
  {
   "cell_type": "code",
   "execution_count": 4,
   "id": "familiar-artwork",
   "metadata": {},
   "outputs": [
    {
     "name": "stderr",
     "output_type": "stream",
     "text": [
      "Loading..: 100%|██████████| 26/26 [00:18<00:00,  1.44it/s]"
     ]
    },
    {
     "name": "stdout",
     "output_type": "stream",
     "text": [
      "init_in_memory: 2m 8s 0.13399\n",
      "time: 2min 8s (started: 2021-03-14 14:08:51 +01:00)\n"
     ]
    },
    {
     "name": "stderr",
     "output_type": "stream",
     "text": [
      "\n"
     ]
    }
   ],
   "source": [
    "# Load in data\n",
    "start(f\"init_in_memory\")\n",
    "sleep(110)  # Number of seconds it takes to clean, tokenise and store the embeddings for level 1\n",
    "memory = {}\n",
    "for file_path in tqdm(glob(str(Path.home() / 'numberbatch/1/_nb_en/*')), desc=\"Loading..\"):\n",
    "    with open(file_path, 'r') as f:\n",
    "        for line in f.readlines():\n",
    "            split = line.split()\n",
    "            memory[split[0]] = np.asarray(split[1:], dtype=float)\n",
    "stop(f\"init_in_memory\")"
   ]
  },
  {
   "cell_type": "code",
   "execution_count": 5,
   "id": "fifteen-variation",
   "metadata": {},
   "outputs": [
    {
     "name": "stdout",
     "output_type": "stream",
     "text": [
      "call_in_memory: 0.11636\n",
      "time: 117 ms (started: 2021-03-14 14:11:10 +01:00)\n"
     ]
    }
   ],
   "source": [
    "# Time embedding\n",
    "start(f\"call_in_memory\")\n",
    "def embed(w) -> Optional[np.ndarray]:\n",
    "    if w in memory: return memory[w]\n",
    "    if len(w) > 1: return embed(w[:-1])\n",
    "    return None\n",
    "\n",
    "for sentence in data:\n",
    "    words = [clean(w) for w in tokenize(sentence)]\n",
    "    result = np.zeros((300,))\n",
    "    for word in words:\n",
    "        v = embed(word)\n",
    "        if v is not None: result += v\n",
    "    norm = result.sum()\n",
    "    result /= norm\n",
    "stop(f\"call_in_memory\")"
   ]
  },
  {
   "cell_type": "markdown",
   "id": "textile-saskatchewan",
   "metadata": {},
   "source": [
    "### By Level\n",
    "\n",
    "Evaluate the initialisation- and inference-speed of the *NumberBatchWrapper* model for all segmentation levels going from 1 to 10 (both including). \n",
    "\n",
    "To keep memory usage as low as possible, a word-vector is loaded in by reading it from a file. This implies that the word vector is not yet known in memory, but pre-written in *embedding files*. This will cut down memory usage significantly, but also comes at an inference cost since the files themselves need to be read in.\n",
    "\n",
    "To increase reading speeds of the files, a *segmentation level* is implemented, that segments the vocabulary of various different files. This level depicts at which level two words are separated from each other:\n",
    " - **Level 1:** segments on the first letter, hence **a**pple and **b**ee are in different files, but **a**pple and **a**nt are not\n",
    " - **Level 2** segments on the first two letters, hence **ap**ple and **an**t wouldn't be in the same file anymore\n",
    "\n",
    "Segmenting on the first letter drastically cuts down the average file-size, significantly decreasing reading times when looking up the corresponding word embeddings. However, this comes at the cost of an exponential increase in the number of files (possible).\n",
    "\n",
    "The notebook, without the embeddings read in into memory, uses 95 MB of memory to operate (note, this includes the results - sentence embeddings of the data - fetched from the wrapper)."
   ]
  },
  {
   "cell_type": "code",
   "execution_count": 8,
   "id": "nervous-pharmaceutical",
   "metadata": {},
   "outputs": [
    {
     "name": "stderr",
     "output_type": "stream",
     "text": [
      "Extracting 'en'..: 9161913it [01:09, 132336.33it/s]                             \n",
      "Segmenting 'en'..: 0it [00:39, ?it/s]\n",
      "Embedding: 100%|██████████| 1000/1000 [28:19<00:00,  1.70s/it] \n",
      "Extracting 'en'..: 9161913it [01:06, 137141.55it/s]                             \n",
      "Segmenting 'en'..: 0it [00:39, ?it/s]\n",
      "Embedding: 100%|██████████| 1000/1000 [04:36<00:00,  3.62it/s]\n",
      "Extracting 'en'..: 9161913it [01:05, 139138.79it/s]                             \n",
      "Segmenting 'en'..: 0it [00:41, ?it/s]\n",
      "Embedding: 100%|██████████| 1000/1000 [00:45<00:00, 21.90it/s]\n",
      "Extracting 'en'..: 9161913it [01:10, 130530.09it/s]                             \n",
      "Segmenting 'en'..: 0it [00:52, ?it/s]\n",
      "Embedding: 100%|██████████| 1000/1000 [00:14<00:00, 71.22it/s]\n",
      "Extracting 'en'..: 9161913it [01:17, 118541.20it/s]                             \n",
      "Segmenting 'en'..: 0it [01:04, ?it/s]\n",
      "Embedding: 100%|██████████| 1000/1000 [00:08<00:00, 120.04it/s]\n",
      "Extracting 'en'..: 9161913it [01:18, 116060.87it/s]                             \n",
      "Segmenting 'en'..: 0it [01:17, ?it/s]\n",
      "Embedding: 100%|██████████| 1000/1000 [00:05<00:00, 172.28it/s]\n",
      "Extracting 'en'..: 9161913it [01:15, 120895.77it/s]                             \n",
      "Segmenting 'en'..: 0it [01:30, ?it/s]\n",
      "Embedding: 100%|██████████| 1000/1000 [00:04<00:00, 238.89it/s]\n",
      "Extracting 'en'..: 9161913it [01:20, 113727.21it/s]                             \n",
      "Segmenting 'en'..: 0it [01:51, ?it/s]\n",
      "Embedding: 100%|██████████| 1000/1000 [00:04<00:00, 243.61it/s]\n",
      "Extracting 'en'..: 9161913it [01:14, 123309.12it/s]                             \n",
      "Segmenting 'en'..: 0it [01:57, ?it/s]\n",
      "Embedding: 100%|██████████| 1000/1000 [00:03<00:00, 277.96it/s]\n",
      "Extracting 'en'..: 9161913it [01:14, 122786.28it/s]                             \n",
      "Segmenting 'en'..: 0it [01:59, ?it/s]\n",
      "Embedding: 100%|██████████| 1000/1000 [00:03<00:00, 277.45it/s]"
     ]
    },
    {
     "name": "stdout",
     "output_type": "stream",
     "text": [
      "Time overview:\n",
      " - call_1: 28m 20s 0.50459\n",
      " - call_10: 5s 0.50755\n",
      " - call_2: 4m 36s 0.39052\n",
      " - call_3: 46s 0.70036\n",
      " - call_4: 14s 0.15349\n",
      " - call_5: 9s 0.59546\n",
      " - call_6: 6s 0.24971\n",
      " - call_7: 5s 0.79914\n",
      " - call_8: 5s 0.81513\n",
      " - call_9: 4s 0.40859\n",
      " - init_1: 1m 50s 0.92526\n",
      " - init_10: 3m 16s 0.59860\n",
      " - init_2: 1m 47s 0.30791\n",
      " - init_3: 1m 49s 0.13731\n",
      " - init_4: 2m 4s 0.74781\n",
      " - init_5: 2m 23s 0.04795\n",
      " - init_6: 2m 38s 0.51560\n",
      " - init_7: 2m 48s 0.18359\n",
      " - init_8: 3m 14s 0.70625\n",
      " - init_9: 3m 13s 0.32836\n",
      "time: 59min 30s (started: 2021-03-09 20:52:01 +01:00)\n"
     ]
    },
    {
     "name": "stderr",
     "output_type": "stream",
     "text": [
      "\n"
     ]
    }
   ],
   "source": [
    "for level in range(1,11):\n",
    "    wrapper = Wrapper(\n",
    "        language='en',\n",
    "        path=Path.home() / f'numberbatch/{level}',\n",
    "        clean_f=clean,\n",
    "        tokenizer=tokenize,\n",
    "        level=level\n",
    "    )\n",
    "    \n",
    "    start(f\"init_{level}\")\n",
    "    wrapper.initialise(\n",
    "        inp_path=Path.home() / 'Downloads'\n",
    "    )\n",
    "    stop(f\"init_{level}\")\n",
    "    \n",
    "    start(f\"call_{level}\")\n",
    "    results = wrapper(data)\n",
    "    stop(f\"call_{level}\")\n",
    "    \n",
    "print_time_overview()"
   ]
  },
  {
   "cell_type": "code",
   "execution_count": 5,
   "id": "absent-effect",
   "metadata": {},
   "outputs": [
    {
     "name": "stdout",
     "output_type": "stream",
     "text": [
      "Number of files for level 1: 26\n",
      "Number of files for level 2: 675\n",
      "Number of files for level 3: 7914\n",
      "Number of files for level 4: 37340\n",
      "Number of files for level 5: 98149\n",
      "Number of files for level 6: 165663\n",
      "Number of files for level 7: 223269\n",
      "Number of files for level 8: 268029\n",
      "Number of files for level 9: 299542\n",
      "Number of files for level 10: 321755\n",
      "time: 8.52 s (started: 2021-03-14 12:38:11 +01:00)\n"
     ]
    }
   ],
   "source": [
    "# Count files\n",
    "from glob import glob\n",
    "for level in range(1,11):\n",
    "    print(f\"Number of files for level {level}: {len(glob(str(Path.home() / f'numberbatch/{level}/_nb_en/*')))}\")"
   ]
  },
  {
   "cell_type": "markdown",
   "id": "manufactured-lawsuit",
   "metadata": {},
   "source": [
    "## Visualise Results\n",
    "\n",
    "TODO"
   ]
  },
  {
   "cell_type": "code",
   "execution_count": 7,
   "id": "spiritual-hurricane",
   "metadata": {},
   "outputs": [
    {
     "name": "stdout",
     "output_type": "stream",
     "text": [
      "time: 2.2 s (started: 2021-03-14 14:30:26 +01:00)\n"
     ]
    }
   ],
   "source": [
    "import matplotlib.pyplot as plt"
   ]
  },
  {
   "cell_type": "code",
   "execution_count": 49,
   "id": "superb-continuity",
   "metadata": {},
   "outputs": [
    {
     "data": {
      "image/png": "[encoded data removed]",
      "text/plain": [
       "<Figure size 576x216 with 1 Axes>"
      ]
     },
     "metadata": {
      "needs_background": "light"
     },
     "output_type": "display_data"
    },
    {
     "name": "stdout",
     "output_type": "stream",
     "text": [
      "time: 754 ms (started: 2021-03-14 14:52:59 +01:00)\n"
     ]
    }
   ],
   "source": [
    "# Initialisation time in seconds\n",
    "init_time = [110, 107, 109, 124, 143, 158, 168, 194, 194, 196]\n",
    "init_base = 128\n",
    "\n",
    "plt.figure(figsize=(8,3))\n",
    "plt.plot(init_time, label='NumberBatchWrapper')\n",
    "plt.hlines(init_base, 0,9, color='orange', label=\"In-Memory\")\n",
    "plt.title(\"Initialisation Duration (lower is better)\")\n",
    "plt.xlabel('Level')\n",
    "plt.xticks(range(10), [x+1 for x in range(10)])\n",
    "plt.ylabel('Time (seconds)')\n",
    "plt.yscale('log')\n",
    "plt.legend()\n",
    "plt.tight_layout()\n",
    "plt.savefig(Path.cwd() / 'img/perf_initialisation.png', dpi=300)"
   ]
  },
  {
   "cell_type": "code",
   "execution_count": 50,
   "id": "criminal-dryer",
   "metadata": {},
   "outputs": [
    {
     "data": {
      "image/png": "[encoded data removed]",
      "text/plain": [
       "<Figure size 576x216 with 1 Axes>"
      ]
     },
     "metadata": {
      "needs_background": "light"
     },
     "output_type": "display_data"
    },
    {
     "name": "stdout",
     "output_type": "stream",
     "text": [
      "time: 941 ms (started: 2021-03-14 14:53:09 +01:00)\n"
     ]
    }
   ],
   "source": [
    "# Inference time in seconds\n",
    "inf_time = [1700.504, 276.390, 46.700, 14.153, 9.595, 6.250, 5.800, 5.815, 4.409, 5.508]\n",
    "inf_base = .116\n",
    "\n",
    "plt.figure(figsize=(8,3))\n",
    "plt.plot(inf_time, label='NumberBatchWrapper')\n",
    "plt.hlines(inf_base, 0,9, color='orange', label=\"In-Memory\")\n",
    "plt.title(\"Inference Duration (lower is better)\")\n",
    "plt.xlabel('Level')\n",
    "plt.xticks(range(10), [x+1 for x in range(10)])\n",
    "plt.ylabel('Time (seconds)')\n",
    "plt.yscale('log')\n",
    "plt.legend()\n",
    "plt.tight_layout()\n",
    "plt.savefig(Path.cwd() / 'img/perf_inference.png', dpi=300)"
   ]
  },
  {
   "cell_type": "code",
   "execution_count": 51,
   "id": "accredited-fortune",
   "metadata": {},
   "outputs": [
    {
     "data": {
      "image/png": "[encoded data removed]",
      "text/plain": [
       "<Figure size 576x216 with 1 Axes>"
      ]
     },
     "metadata": {
      "needs_background": "light"
     },
     "output_type": "display_data"
    },
    {
     "name": "stdout",
     "output_type": "stream",
     "text": [
      "time: 707 ms (started: 2021-03-14 14:53:13 +01:00)\n"
     ]
    }
   ],
   "source": [
    "# Memory usage in megabytes\n",
    "mem = [95,] * 10\n",
    "mem_base = 1200\n",
    "\n",
    "plt.figure(figsize=(8,3))\n",
    "plt.plot(mem, label='NumberBatchWrapper')\n",
    "plt.hlines(mem_base, 0,9, color='orange', label=\"In-Memory\")\n",
    "plt.title(\"Memory Usage (lower is better)\")\n",
    "plt.xlabel('Level')\n",
    "plt.xticks(range(10), [x+1 for x in range(10)])\n",
    "plt.ylabel('Memory (MB)')\n",
    "plt.yscale('log')\n",
    "plt.legend()\n",
    "plt.tight_layout()\n",
    "plt.savefig(Path.cwd() / 'img/perf_memory.png', dpi=300)"
   ]
  },
  {
   "cell_type": "code",
   "execution_count": 52,
   "id": "eight-civilian",
   "metadata": {},
   "outputs": [
    {
     "data": {
      "image/png": "[encoded data removed]",
      "text/plain": [
       "<Figure size 576x216 with 1 Axes>"
      ]
     },
     "metadata": {
      "needs_background": "light"
     },
     "output_type": "display_data"
    },
    {
     "name": "stdout",
     "output_type": "stream",
     "text": [
      "time: 1.07 s (started: 2021-03-14 14:53:15 +01:00)\n"
     ]
    }
   ],
   "source": [
    "# Number of files\n",
    "files = [26, 675, 7914, 37340, 98149, 165663, 223269, 268029, 299542, 321755]\n",
    "files_base = 1\n",
    "\n",
    "plt.figure(figsize=(8,3))\n",
    "plt.plot(files, label='NumberBatchWrapper')\n",
    "plt.hlines(files_base, 0,9, color='orange', label=\"In-Memory\")\n",
    "plt.title(\"Number of files\")\n",
    "plt.xlabel('Level')\n",
    "plt.xticks(range(10), [x+1 for x in range(10)])\n",
    "plt.ylabel('File Count')\n",
    "plt.yscale('log')\n",
    "plt.legend()\n",
    "plt.tight_layout()\n",
    "plt.savefig(Path.cwd() / 'img/perf_files.png', dpi=300)"
   ]
  },
  {
   "cell_type": "code",
   "execution_count": 53,
   "id": "fitting-concept",
   "metadata": {},
   "outputs": [
    {
     "name": "stdout",
     "output_type": "stream",
     "text": [
      "time: 779 ms (started: 2021-03-14 14:53:17 +01:00)\n"
     ]
    }
   ],
   "source": [
    "# Combine all images\n",
    "import sys\n",
    "from PIL import Image\n",
    "\n",
    "# Get final image's dimensions\n",
    "width, height = Image.open(Path.cwd() / 'img/perf_initialisation.png').size\n",
    "\n",
    "# Merge images into a new image and save\n",
    "new_im = Image.new('RGB', (2*width, 2*height))\n",
    "new_im.paste(Image.open(Path.cwd() / 'img/perf_initialisation.png'), (0,0))\n",
    "new_im.paste(Image.open(Path.cwd() / 'img/perf_inference.png'), (0,height))\n",
    "new_im.paste(Image.open(Path.cwd() / 'img/perf_memory.png'), (width,0))\n",
    "new_im.paste(Image.open(Path.cwd() / 'img/perf_files.png'), (width,height))\n",
    "new_im.save(Path.cwd() / 'img/combined.png')"
   ]
  },
  {
   "cell_type": "code",
   "execution_count": null,
   "id": "fossil-thanksgiving",
   "metadata": {},
   "outputs": [],
   "source": []
  }
 ],
 "metadata": {
  "hide_input": false,
  "kernelspec": {
   "display_name": "Python 3",
   "language": "python",
   "name": "python3"
  },
  "language_info": {
   "codemirror_mode": {
    "name": "ipython",
    "version": 3
   },
   "file_extension": ".py",
   "mimetype": "text/x-python",
   "name": "python",
   "nbconvert_exporter": "python",
   "pygments_lexer": "ipython3",
   "version": "3.8.2"
  }
 },
 "nbformat": 4,
 "nbformat_minor": 5
}
