{
 "cells": [
  {
   "cell_type": "code",
   "execution_count": 1,
   "id": "animated-effectiveness",
   "metadata": {},
   "outputs": [],
   "source": [
    "%load_ext autoreload\n",
    "%autoreload 2"
   ]
  },
  {
   "cell_type": "code",
   "execution_count": 2,
   "id": "large-wilderness",
   "metadata": {},
   "outputs": [
    {
     "name": "stdout",
     "output_type": "stream",
     "text": [
      "time: 314 µs (started: 2021-03-09 20:52:01 +01:00)\n"
     ]
    }
   ],
   "source": [
    "%load_ext autotime"
   ]
  },
  {
   "cell_type": "code",
   "execution_count": 3,
   "id": "closing-rental",
   "metadata": {},
   "outputs": [
    {
     "name": "stdout",
     "output_type": "stream",
     "text": [
      "/Users/rubenbroekx/Documents/Projects/NumberBatchWrapper\n",
      "time: 1.35 ms (started: 2021-03-09 20:52:01 +01:00)\n"
     ]
    }
   ],
   "source": [
    "%cd .."
   ]
  },
  {
   "cell_type": "markdown",
   "id": "other-cornwall",
   "metadata": {},
   "source": [
    "# Performance\n",
    "\n",
    "This notebook evaluates the performance of the model for different `level` configureations. The general rule of thumb is that a higher `level` will result in a faster performance, at the cost of more files to create (longer initialisation)."
   ]
  },
  {
   "cell_type": "code",
   "execution_count": 4,
   "id": "executive-subscription",
   "metadata": {},
   "outputs": [
    {
     "name": "stdout",
     "output_type": "stream",
     "text": [
      "time: 150 ms (started: 2021-03-09 20:52:01 +01:00)\n"
     ]
    }
   ],
   "source": [
    "from number_batch_wrapper import Wrapper"
   ]
  },
  {
   "cell_type": "code",
   "execution_count": 5,
   "id": "integrated-marketplace",
   "metadata": {},
   "outputs": [
    {
     "name": "stdout",
     "output_type": "stream",
     "text": [
      "time: 1.75 ms (started: 2021-03-09 20:52:01 +01:00)\n"
     ]
    }
   ],
   "source": [
    "from time import time\n",
    "\n",
    "TIME = {}\n",
    "def start(tag):\n",
    "    assert tag not in TIME\n",
    "    TIME[tag] = time()\n",
    "    \n",
    "def stop(tag):\n",
    "    assert tag in TIME\n",
    "    TIME[tag] = time() - TIME[tag]\n",
    "    \n",
    "def str_time(time) -> str:\n",
    "    result = \"\"\n",
    "    if time // 3600: \n",
    "        result += f\"{round(time)//3600}h \"\n",
    "        time %= 3600\n",
    "    if time // 60: \n",
    "        result += f\"{round(time)//60}m \"\n",
    "        time %= 60\n",
    "    if time // 1:\n",
    "        result += f\"{round(time)//1}s \"\n",
    "        time %= 1\n",
    "    result += f\"{round(time,5):.5f}\"\n",
    "    return result\n",
    "        \n",
    "def print_time_overview():\n",
    "    print(f\"Time overview:\")\n",
    "    for k,v in sorted(TIME.items()):\n",
    "        print(f\" - {k}: {str_time(v)}\")"
   ]
  },
  {
   "cell_type": "code",
   "execution_count": 6,
   "id": "promising-bronze",
   "metadata": {},
   "outputs": [
    {
     "name": "stdout",
     "output_type": "stream",
     "text": [
      "time: 2.38 ms (started: 2021-03-09 20:52:01 +01:00)\n"
     ]
    }
   ],
   "source": [
    "# Load the demo-data, use to evaluate performance on\n",
    "import json\n",
    "from pathlib import Path\n",
    "\n",
    "with open(Path.cwd() / 'demos/data.json', 'r') as f:\n",
    "    data = json.load(f)"
   ]
  },
  {
   "cell_type": "code",
   "execution_count": 7,
   "id": "collect-minority",
   "metadata": {},
   "outputs": [
    {
     "name": "stdout",
     "output_type": "stream",
     "text": [
      "time: 7.14 ms (started: 2021-03-09 20:52:01 +01:00)\n"
     ]
    }
   ],
   "source": [
    "# Custom cleaning and tokenization, see notebook 1_usage.ipynb\n",
    "import re\n",
    "from typing import List\n",
    "from fold_to_ascii import fold\n",
    "from stop_words import get_stop_words\n",
    "\n",
    "def clean(x:str) -> str:\n",
    "    \"\"\"Custom cleaning function.\"\"\"\n",
    "    x = fold(x.lower())\n",
    "    x = re.sub(r'[^a-z]', '', x)\n",
    "    return x\n",
    "\n",
    "STOP_EN = set(get_stop_words('en'))\n",
    "\n",
    "def tokenize(sentence:str) -> List[str]:\n",
    "    \"\"\"Custom tokenizer.\"\"\"\n",
    "    sentence = re.split(r'\\W', sentence)\n",
    "    sentence = [clean(w) for w in sentence]\n",
    "    sentence = [w for w in sentence if len(w) > 1 and w not in STOP_EN]\n",
    "    return sentence"
   ]
  },
  {
   "cell_type": "markdown",
   "id": "wrapped-preliminary",
   "metadata": {},
   "source": [
    "## Time\n",
    "\n",
    "Time both the creation (`initialise`) as the inference (`__call__`) of the model. "
   ]
  },
  {
   "cell_type": "code",
   "execution_count": 8,
   "id": "nervous-pharmaceutical",
   "metadata": {},
   "outputs": [
    {
     "name": "stderr",
     "output_type": "stream",
     "text": [
      "Extracting 'en'..: 9161913it [01:09, 132336.33it/s]                             \n",
      "Segmenting 'en'..: 0it [00:39, ?it/s]\n",
      "Embedding: 100%|██████████| 1000/1000 [28:19<00:00,  1.70s/it] \n",
      "Extracting 'en'..: 9161913it [01:06, 137141.55it/s]                             \n",
      "Segmenting 'en'..: 0it [00:39, ?it/s]\n",
      "Embedding: 100%|██████████| 1000/1000 [04:36<00:00,  3.62it/s]\n",
      "Extracting 'en'..: 9161913it [01:05, 139138.79it/s]                             \n",
      "Segmenting 'en'..: 0it [00:41, ?it/s]\n",
      "Embedding: 100%|██████████| 1000/1000 [00:45<00:00, 21.90it/s]\n",
      "Extracting 'en'..: 9161913it [01:10, 130530.09it/s]                             \n",
      "Segmenting 'en'..: 0it [00:52, ?it/s]\n",
      "Embedding: 100%|██████████| 1000/1000 [00:14<00:00, 71.22it/s]\n",
      "Extracting 'en'..: 9161913it [01:17, 118541.20it/s]                             \n",
      "Segmenting 'en'..: 0it [01:04, ?it/s]\n",
      "Embedding: 100%|██████████| 1000/1000 [00:08<00:00, 120.04it/s]\n",
      "Extracting 'en'..: 9161913it [01:18, 116060.87it/s]                             \n",
      "Segmenting 'en'..: 0it [01:17, ?it/s]\n",
      "Embedding: 100%|██████████| 1000/1000 [00:05<00:00, 172.28it/s]\n",
      "Extracting 'en'..: 9161913it [01:15, 120895.77it/s]                             \n",
      "Segmenting 'en'..: 0it [01:30, ?it/s]\n",
      "Embedding: 100%|██████████| 1000/1000 [00:04<00:00, 238.89it/s]\n",
      "Extracting 'en'..: 9161913it [01:20, 113727.21it/s]                             \n",
      "Segmenting 'en'..: 0it [01:51, ?it/s]\n",
      "Embedding: 100%|██████████| 1000/1000 [00:04<00:00, 243.61it/s]\n",
      "Extracting 'en'..: 9161913it [01:14, 123309.12it/s]                             \n",
      "Segmenting 'en'..: 0it [01:57, ?it/s]\n",
      "Embedding: 100%|██████████| 1000/1000 [00:03<00:00, 277.96it/s]\n",
      "Extracting 'en'..: 9161913it [01:14, 122786.28it/s]                             \n",
      "Segmenting 'en'..: 0it [01:59, ?it/s]\n",
      "Embedding: 100%|██████████| 1000/1000 [00:03<00:00, 277.45it/s]"
     ]
    },
    {
     "name": "stdout",
     "output_type": "stream",
     "text": [
      "Time overview:\n",
      " - call_1: 28m 20s 0.50459\n",
      " - call_10: 5s 0.50755\n",
      " - call_2: 4m 36s 0.39052\n",
      " - call_3: 46s 0.70036\n",
      " - call_4: 14s 0.15349\n",
      " - call_5: 9s 0.59546\n",
      " - call_6: 6s 0.24971\n",
      " - call_7: 5s 0.79914\n",
      " - call_8: 5s 0.81513\n",
      " - call_9: 4s 0.40859\n",
      " - init_1: 1m 50s 0.92526\n",
      " - init_10: 3m 16s 0.59860\n",
      " - init_2: 1m 47s 0.30791\n",
      " - init_3: 1m 49s 0.13731\n",
      " - init_4: 2m 4s 0.74781\n",
      " - init_5: 2m 23s 0.04795\n",
      " - init_6: 2m 38s 0.51560\n",
      " - init_7: 2m 48s 0.18359\n",
      " - init_8: 3m 14s 0.70625\n",
      " - init_9: 3m 13s 0.32836\n",
      "time: 59min 30s (started: 2021-03-09 20:52:01 +01:00)\n"
     ]
    },
    {
     "name": "stderr",
     "output_type": "stream",
     "text": [
      "\n"
     ]
    }
   ],
   "source": [
    "for level in range(1,11):\n",
    "    wrapper = Wrapper(\n",
    "        language='en',\n",
    "        path=Path.home() / f'numberbatch/{level}',\n",
    "        clean_f=clean,\n",
    "        tokenizer=tokenize,\n",
    "        level=level\n",
    "    )\n",
    "    \n",
    "    start(f\"init_{level}\")\n",
    "    wrapper.initialise(\n",
    "        inp_path=Path.home() / 'Downloads'\n",
    "    )\n",
    "    stop(f\"init_{level}\")\n",
    "    \n",
    "    start(f\"call_{level}\")\n",
    "    results = wrapper(data)\n",
    "    stop(f\"call_{level}\")\n",
    "    \n",
    "print_time_overview()"
   ]
  },
  {
   "cell_type": "markdown",
   "id": "coordinated-plasma",
   "metadata": {},
   "source": [
    "## Visualise\n",
    "\n",
    "Visualise the measured results."
   ]
  },
  {
   "cell_type": "code",
   "execution_count": null,
   "id": "electoral-irish",
   "metadata": {},
   "outputs": [],
   "source": []
  }
 ],
 "metadata": {
  "hide_input": false,
  "kernelspec": {
   "display_name": "Python 3",
   "language": "python",
   "name": "python3"
  },
  "language_info": {
   "codemirror_mode": {
    "name": "ipython",
    "version": 3
   },
   "file_extension": ".py",
   "mimetype": "text/x-python",
   "name": "python",
   "nbconvert_exporter": "python",
   "pygments_lexer": "ipython3",
   "version": "3.8.2"
  }
 },
 "nbformat": 4,
 "nbformat_minor": 5
}
